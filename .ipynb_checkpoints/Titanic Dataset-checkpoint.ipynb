{
 "cells": [
  {
   "cell_type": "markdown",
   "id": "b48f0665",
   "metadata": {},
   "source": [
    "# The Titanic Dataset\n",
    "\n",
    "## Framing the Problem\n",
    "\n",
    "This is the infamous Titanic ML competition – the best, first challenge for beginners to dive into ML competitions and familiarize themselves with Kaggle. In this case, I'm actually working out of Aurélien Géron's book, *Hands-On Machine Learning with Scikit-Learn, Keras, and Tensorflow*. Exercise 3 of Chapter 3 is to complete this competition.\n",
    "\n",
    "Of course, since I have been training with Mr. Géron's book, I will go through the Machine Learning Project Checklist.  The first step is to frame the problem and look at the big picture.\n",
    "\n",
    "The objective is simple: use machine learning to create a model that predicts which passengers survived the Titanic shipwreck. This isn't really a business problem per se, but studying the survival rate on the Titanic could prove useful for other ships in the modern day. For example, by knowing which groups were most likely to die on the Titanic, those groups could be targeted for immediate rescue if a comparable shipwreck were to happen today.\n",
    "\n",
    "This problem will clearly be a supervised offline learning problem, since we know which passengers survived and which didn't. Further, we don't have any new information streaming into the problem.\n",
    "\n",
    "Since this is a classification problem, performance of the algorithm should be measured via both precision and recall or accuracy. In the context of improving survival rates in future shipwrecks, an imprecise model would incorrectly categorize people and waste resources on people who perhaps don't need as much help to survive the shipwreck. On the other hand, an algorithm with low recall will miss people who really need help to survive. It doesn't seem like it's a good idea to sacrifice recall for precision, or vice versa, so we should aim to have both high.\n",
    "\n",
    "The next thing on the checklist is to get the data.\n",
    "\n",
    "## Get the Data"
   ]
  },
  {
   "cell_type": "code",
   "execution_count": 1,
   "id": "047e96fe",
   "metadata": {},
   "outputs": [],
   "source": [
    "import os\n",
    "import pandas as pd\n",
    "import numpy as np\n",
    "\n",
    "TITANIC_PATH = os.path.join('datasets')\n",
    "\n",
    "def load_csv(PATH, file):\n",
    "    csv_path = os.path.join(PATH, file)\n",
    "    return pd.read_csv(csv_path)\n",
    "\n",
    "titanic_train = load_csv(TITANIC_PATH, 'train.csv')\n",
    "titanic_test = load_csv(TITANIC_PATH, 'test.csv')"
   ]
  },
  {
   "cell_type": "markdown",
   "id": "04d1d786",
   "metadata": {},
   "source": [
    "The data have already been divided into training and testing sets, but they will need to be separated into the predictors and the labels. We can do this later.\n",
    "\n",
    "Because this dataset is from a Kaggle competition, the test set does not have labels. Later we will submit a file of our predictions for evaluation.\n",
    "\n",
    "## Exploring the Data\n",
    "\n",
    "Now we move on to the third step, exploring the data. Taking a quick look at the data structure:"
   ]
  },
  {
   "cell_type": "code",
   "execution_count": 2,
   "id": "29f4c91a",
   "metadata": {},
   "outputs": [
    {
     "data": {
      "text/html": [
       "<div>\n",
       "<style scoped>\n",
       "    .dataframe tbody tr th:only-of-type {\n",
       "        vertical-align: middle;\n",
       "    }\n",
       "\n",
       "    .dataframe tbody tr th {\n",
       "        vertical-align: top;\n",
       "    }\n",
       "\n",
       "    .dataframe thead th {\n",
       "        text-align: right;\n",
       "    }\n",
       "</style>\n",
       "<table border=\"1\" class=\"dataframe\">\n",
       "  <thead>\n",
       "    <tr style=\"text-align: right;\">\n",
       "      <th></th>\n",
       "      <th>Survived</th>\n",
       "      <th>Pclass</th>\n",
       "      <th>Name</th>\n",
       "      <th>Sex</th>\n",
       "      <th>Age</th>\n",
       "      <th>SibSp</th>\n",
       "      <th>Parch</th>\n",
       "      <th>Ticket</th>\n",
       "      <th>Fare</th>\n",
       "      <th>Cabin</th>\n",
       "      <th>Embarked</th>\n",
       "    </tr>\n",
       "    <tr>\n",
       "      <th>PassengerId</th>\n",
       "      <th></th>\n",
       "      <th></th>\n",
       "      <th></th>\n",
       "      <th></th>\n",
       "      <th></th>\n",
       "      <th></th>\n",
       "      <th></th>\n",
       "      <th></th>\n",
       "      <th></th>\n",
       "      <th></th>\n",
       "      <th></th>\n",
       "    </tr>\n",
       "  </thead>\n",
       "  <tbody>\n",
       "    <tr>\n",
       "      <th>1</th>\n",
       "      <td>0</td>\n",
       "      <td>3</td>\n",
       "      <td>Braund, Mr. Owen Harris</td>\n",
       "      <td>male</td>\n",
       "      <td>22.0</td>\n",
       "      <td>1</td>\n",
       "      <td>0</td>\n",
       "      <td>A/5 21171</td>\n",
       "      <td>7.2500</td>\n",
       "      <td>NaN</td>\n",
       "      <td>S</td>\n",
       "    </tr>\n",
       "    <tr>\n",
       "      <th>2</th>\n",
       "      <td>1</td>\n",
       "      <td>1</td>\n",
       "      <td>Cumings, Mrs. John Bradley (Florence Briggs Th...</td>\n",
       "      <td>female</td>\n",
       "      <td>38.0</td>\n",
       "      <td>1</td>\n",
       "      <td>0</td>\n",
       "      <td>PC 17599</td>\n",
       "      <td>71.2833</td>\n",
       "      <td>C85</td>\n",
       "      <td>C</td>\n",
       "    </tr>\n",
       "    <tr>\n",
       "      <th>3</th>\n",
       "      <td>1</td>\n",
       "      <td>3</td>\n",
       "      <td>Heikkinen, Miss. Laina</td>\n",
       "      <td>female</td>\n",
       "      <td>26.0</td>\n",
       "      <td>0</td>\n",
       "      <td>0</td>\n",
       "      <td>STON/O2. 3101282</td>\n",
       "      <td>7.9250</td>\n",
       "      <td>NaN</td>\n",
       "      <td>S</td>\n",
       "    </tr>\n",
       "    <tr>\n",
       "      <th>4</th>\n",
       "      <td>1</td>\n",
       "      <td>1</td>\n",
       "      <td>Futrelle, Mrs. Jacques Heath (Lily May Peel)</td>\n",
       "      <td>female</td>\n",
       "      <td>35.0</td>\n",
       "      <td>1</td>\n",
       "      <td>0</td>\n",
       "      <td>113803</td>\n",
       "      <td>53.1000</td>\n",
       "      <td>C123</td>\n",
       "      <td>S</td>\n",
       "    </tr>\n",
       "    <tr>\n",
       "      <th>5</th>\n",
       "      <td>0</td>\n",
       "      <td>3</td>\n",
       "      <td>Allen, Mr. William Henry</td>\n",
       "      <td>male</td>\n",
       "      <td>35.0</td>\n",
       "      <td>0</td>\n",
       "      <td>0</td>\n",
       "      <td>373450</td>\n",
       "      <td>8.0500</td>\n",
       "      <td>NaN</td>\n",
       "      <td>S</td>\n",
       "    </tr>\n",
       "  </tbody>\n",
       "</table>\n",
       "</div>"
      ],
      "text/plain": [
       "             Survived  Pclass  \\\n",
       "PassengerId                     \n",
       "1                   0       3   \n",
       "2                   1       1   \n",
       "3                   1       3   \n",
       "4                   1       1   \n",
       "5                   0       3   \n",
       "\n",
       "                                                          Name     Sex   Age  \\\n",
       "PassengerId                                                                    \n",
       "1                                      Braund, Mr. Owen Harris    male  22.0   \n",
       "2            Cumings, Mrs. John Bradley (Florence Briggs Th...  female  38.0   \n",
       "3                                       Heikkinen, Miss. Laina  female  26.0   \n",
       "4                 Futrelle, Mrs. Jacques Heath (Lily May Peel)  female  35.0   \n",
       "5                                     Allen, Mr. William Henry    male  35.0   \n",
       "\n",
       "             SibSp  Parch            Ticket     Fare Cabin Embarked  \n",
       "PassengerId                                                          \n",
       "1                1      0         A/5 21171   7.2500   NaN        S  \n",
       "2                1      0          PC 17599  71.2833   C85        C  \n",
       "3                0      0  STON/O2. 3101282   7.9250   NaN        S  \n",
       "4                1      0            113803  53.1000  C123        S  \n",
       "5                0      0            373450   8.0500   NaN        S  "
      ]
     },
     "execution_count": 2,
     "metadata": {},
     "output_type": "execute_result"
    }
   ],
   "source": [
    "titanic_train = titanic_train.set_index(\"PassengerId\")\n",
    "titanic_test = titanic_test.set_index(\"PassengerId\")\n",
    "\n",
    "titanic_train.head()"
   ]
  },
  {
   "cell_type": "markdown",
   "id": "1e82f274",
   "metadata": {},
   "source": [
    "It looks like there are 12 attributes in the dataset, with survived being the label and everything else a predictor:\n",
    "\n",
    "    - PassengerId: a unique identifier for each passenger\n",
    "    - Survived: that's the target, 0 means the passenger did not survive, while 1 means he/she survived.\n",
    "    - Pclass: passenger class\n",
    "    - Name, Sex, Age: self-explanatory\n",
    "    - SibSp: how many siblings & spouses of the passenger aboard the Titanic\n",
    "    - Parch: how many children & parents of the passenger aboard the Titanic\n",
    "    - Ticket: ticket id\n",
    "    - Fare: price paid (in pounds)\n",
    "    - Cabin: passenger's cabin number\n",
    "    - Embarked: where the passenger embarked the Titanic\n"
   ]
  },
  {
   "cell_type": "code",
   "execution_count": 3,
   "id": "a72931f8",
   "metadata": {},
   "outputs": [
    {
     "name": "stdout",
     "output_type": "stream",
     "text": [
      "<class 'pandas.core.frame.DataFrame'>\n",
      "Int64Index: 891 entries, 1 to 891\n",
      "Data columns (total 11 columns):\n",
      " #   Column    Non-Null Count  Dtype  \n",
      "---  ------    --------------  -----  \n",
      " 0   Survived  891 non-null    int64  \n",
      " 1   Pclass    891 non-null    int64  \n",
      " 2   Name      891 non-null    object \n",
      " 3   Sex       891 non-null    object \n",
      " 4   Age       714 non-null    float64\n",
      " 5   SibSp     891 non-null    int64  \n",
      " 6   Parch     891 non-null    int64  \n",
      " 7   Ticket    891 non-null    object \n",
      " 8   Fare      891 non-null    float64\n",
      " 9   Cabin     204 non-null    object \n",
      " 10  Embarked  889 non-null    object \n",
      "dtypes: float64(2), int64(4), object(5)\n",
      "memory usage: 83.5+ KB\n"
     ]
    }
   ],
   "source": [
    "titanic_train.info()"
   ]
  },
  {
   "cell_type": "markdown",
   "id": "cdbb745e",
   "metadata": {},
   "source": [
    "Looks like `age`, `cabin`, and `embarked` have `null` values in them. Further, we have a few attributes that are strings: `name`, `sex`, `ticket`, `cabin`, and `embarked`. We know that `Survived` and `Sex` are categorical attributes, but what about the rest?"
   ]
  },
  {
   "cell_type": "code",
   "execution_count": 4,
   "id": "a4212386",
   "metadata": {},
   "outputs": [
    {
     "name": "stdout",
     "output_type": "stream",
     "text": [
      "male      577\n",
      "female    314\n",
      "Name: Sex, dtype: int64\n",
      "S    644\n",
      "C    168\n",
      "Q     77\n",
      "Name: Embarked, dtype: int64\n",
      "3    491\n",
      "1    216\n",
      "2    184\n",
      "Name: Pclass, dtype: int64\n"
     ]
    }
   ],
   "source": [
    "print(titanic_train['Sex'].value_counts())\n",
    "print(titanic_train['Embarked'].value_counts())\n",
    "print(titanic_train['Pclass'].value_counts())"
   ]
  },
  {
   "cell_type": "markdown",
   "id": "b1e41356",
   "metadata": {},
   "source": [
    "We have a few categories for the `Embarked` and `Pclass` attributes. The `Sex` attribute can be converted to numbers with OneHotEncoding later too."
   ]
  },
  {
   "cell_type": "code",
   "execution_count": 5,
   "id": "2316f70f",
   "metadata": {},
   "outputs": [
    {
     "data": {
      "text/html": [
       "<div>\n",
       "<style scoped>\n",
       "    .dataframe tbody tr th:only-of-type {\n",
       "        vertical-align: middle;\n",
       "    }\n",
       "\n",
       "    .dataframe tbody tr th {\n",
       "        vertical-align: top;\n",
       "    }\n",
       "\n",
       "    .dataframe thead th {\n",
       "        text-align: right;\n",
       "    }\n",
       "</style>\n",
       "<table border=\"1\" class=\"dataframe\">\n",
       "  <thead>\n",
       "    <tr style=\"text-align: right;\">\n",
       "      <th></th>\n",
       "      <th>Survived</th>\n",
       "      <th>Pclass</th>\n",
       "      <th>Age</th>\n",
       "      <th>SibSp</th>\n",
       "      <th>Parch</th>\n",
       "      <th>Fare</th>\n",
       "    </tr>\n",
       "  </thead>\n",
       "  <tbody>\n",
       "    <tr>\n",
       "      <th>count</th>\n",
       "      <td>891.000000</td>\n",
       "      <td>891.000000</td>\n",
       "      <td>714.000000</td>\n",
       "      <td>891.000000</td>\n",
       "      <td>891.000000</td>\n",
       "      <td>891.000000</td>\n",
       "    </tr>\n",
       "    <tr>\n",
       "      <th>mean</th>\n",
       "      <td>0.383838</td>\n",
       "      <td>2.308642</td>\n",
       "      <td>29.699118</td>\n",
       "      <td>0.523008</td>\n",
       "      <td>0.381594</td>\n",
       "      <td>32.204208</td>\n",
       "    </tr>\n",
       "    <tr>\n",
       "      <th>std</th>\n",
       "      <td>0.486592</td>\n",
       "      <td>0.836071</td>\n",
       "      <td>14.526497</td>\n",
       "      <td>1.102743</td>\n",
       "      <td>0.806057</td>\n",
       "      <td>49.693429</td>\n",
       "    </tr>\n",
       "    <tr>\n",
       "      <th>min</th>\n",
       "      <td>0.000000</td>\n",
       "      <td>1.000000</td>\n",
       "      <td>0.420000</td>\n",
       "      <td>0.000000</td>\n",
       "      <td>0.000000</td>\n",
       "      <td>0.000000</td>\n",
       "    </tr>\n",
       "    <tr>\n",
       "      <th>25%</th>\n",
       "      <td>0.000000</td>\n",
       "      <td>2.000000</td>\n",
       "      <td>20.125000</td>\n",
       "      <td>0.000000</td>\n",
       "      <td>0.000000</td>\n",
       "      <td>7.910400</td>\n",
       "    </tr>\n",
       "    <tr>\n",
       "      <th>50%</th>\n",
       "      <td>0.000000</td>\n",
       "      <td>3.000000</td>\n",
       "      <td>28.000000</td>\n",
       "      <td>0.000000</td>\n",
       "      <td>0.000000</td>\n",
       "      <td>14.454200</td>\n",
       "    </tr>\n",
       "    <tr>\n",
       "      <th>75%</th>\n",
       "      <td>1.000000</td>\n",
       "      <td>3.000000</td>\n",
       "      <td>38.000000</td>\n",
       "      <td>1.000000</td>\n",
       "      <td>0.000000</td>\n",
       "      <td>31.000000</td>\n",
       "    </tr>\n",
       "    <tr>\n",
       "      <th>max</th>\n",
       "      <td>1.000000</td>\n",
       "      <td>3.000000</td>\n",
       "      <td>80.000000</td>\n",
       "      <td>8.000000</td>\n",
       "      <td>6.000000</td>\n",
       "      <td>512.329200</td>\n",
       "    </tr>\n",
       "  </tbody>\n",
       "</table>\n",
       "</div>"
      ],
      "text/plain": [
       "         Survived      Pclass         Age       SibSp       Parch        Fare\n",
       "count  891.000000  891.000000  714.000000  891.000000  891.000000  891.000000\n",
       "mean     0.383838    2.308642   29.699118    0.523008    0.381594   32.204208\n",
       "std      0.486592    0.836071   14.526497    1.102743    0.806057   49.693429\n",
       "min      0.000000    1.000000    0.420000    0.000000    0.000000    0.000000\n",
       "25%      0.000000    2.000000   20.125000    0.000000    0.000000    7.910400\n",
       "50%      0.000000    3.000000   28.000000    0.000000    0.000000   14.454200\n",
       "75%      1.000000    3.000000   38.000000    1.000000    0.000000   31.000000\n",
       "max      1.000000    3.000000   80.000000    8.000000    6.000000  512.329200"
      ]
     },
     "execution_count": 5,
     "metadata": {},
     "output_type": "execute_result"
    }
   ],
   "source": [
    "titanic_train.describe()"
   ]
  },
  {
   "cell_type": "markdown",
   "id": "d562c964",
   "metadata": {},
   "source": [
    "Only 38% of the passengers survived! We can also see that there is a large spread in age, with the oldest passenger being 80 years old and the youngest less than year, but the standard deviation is only 14.5 years.\n",
    "\n",
    "Let's look at the data plotted against itself and see if we can see anything interesting."
   ]
  },
  {
   "cell_type": "code",
   "execution_count": 6,
   "id": "ec2ff9e0",
   "metadata": {},
   "outputs": [
    {
     "data": {
      "image/png": "[encoded data removed]",
      "text/plain": [
       "<Figure size 1440x1080 with 6 Axes>"
      ]
     },
     "metadata": {
      "needs_background": "light"
     },
     "output_type": "display_data"
    }
   ],
   "source": [
    "import matplotlib.pyplot as plt\n",
    "\n",
    "titanic_train.hist(bins=50, figsize=(20,15))\n",
    "plt.show()"
   ]
  },
  {
   "cell_type": "markdown",
   "id": "34120da0",
   "metadata": {},
   "source": [
    "Most passenegers traveled by themselves, as we can see in SibSp and Parch. The age distribution is almost normal, with most of the passengers being 20-30 years old. The fare price is heavily skewed to the left. We know that this attribute is expressed in Pounds and is not scaled at all. The scales of these data are not very different.\n",
    "\n",
    "Now we'll split the data into predictors and labels and also make copies of the data that we can work on without disturbing the originals."
   ]
  },
  {
   "cell_type": "code",
   "execution_count": 7,
   "id": "552636e6",
   "metadata": {},
   "outputs": [
    {
     "data": {
      "text/html": [
       "<div>\n",
       "<style scoped>\n",
       "    .dataframe tbody tr th:only-of-type {\n",
       "        vertical-align: middle;\n",
       "    }\n",
       "\n",
       "    .dataframe tbody tr th {\n",
       "        vertical-align: top;\n",
       "    }\n",
       "\n",
       "    .dataframe thead th {\n",
       "        text-align: right;\n",
       "    }\n",
       "</style>\n",
       "<table border=\"1\" class=\"dataframe\">\n",
       "  <thead>\n",
       "    <tr style=\"text-align: right;\">\n",
       "      <th></th>\n",
       "      <th>Pclass</th>\n",
       "      <th>Name</th>\n",
       "      <th>Sex</th>\n",
       "      <th>Age</th>\n",
       "      <th>SibSp</th>\n",
       "      <th>Parch</th>\n",
       "      <th>Ticket</th>\n",
       "      <th>Fare</th>\n",
       "      <th>Cabin</th>\n",
       "      <th>Embarked</th>\n",
       "    </tr>\n",
       "    <tr>\n",
       "      <th>PassengerId</th>\n",
       "      <th></th>\n",
       "      <th></th>\n",
       "      <th></th>\n",
       "      <th></th>\n",
       "      <th></th>\n",
       "      <th></th>\n",
       "      <th></th>\n",
       "      <th></th>\n",
       "      <th></th>\n",
       "      <th></th>\n",
       "    </tr>\n",
       "  </thead>\n",
       "  <tbody>\n",
       "    <tr>\n",
       "      <th>1</th>\n",
       "      <td>3</td>\n",
       "      <td>Braund, Mr. Owen Harris</td>\n",
       "      <td>male</td>\n",
       "      <td>22.0</td>\n",
       "      <td>1</td>\n",
       "      <td>0</td>\n",
       "      <td>A/5 21171</td>\n",
       "      <td>7.2500</td>\n",
       "      <td>NaN</td>\n",
       "      <td>S</td>\n",
       "    </tr>\n",
       "    <tr>\n",
       "      <th>2</th>\n",
       "      <td>1</td>\n",
       "      <td>Cumings, Mrs. John Bradley (Florence Briggs Th...</td>\n",
       "      <td>female</td>\n",
       "      <td>38.0</td>\n",
       "      <td>1</td>\n",
       "      <td>0</td>\n",
       "      <td>PC 17599</td>\n",
       "      <td>71.2833</td>\n",
       "      <td>C85</td>\n",
       "      <td>C</td>\n",
       "    </tr>\n",
       "    <tr>\n",
       "      <th>3</th>\n",
       "      <td>3</td>\n",
       "      <td>Heikkinen, Miss. Laina</td>\n",
       "      <td>female</td>\n",
       "      <td>26.0</td>\n",
       "      <td>0</td>\n",
       "      <td>0</td>\n",
       "      <td>STON/O2. 3101282</td>\n",
       "      <td>7.9250</td>\n",
       "      <td>NaN</td>\n",
       "      <td>S</td>\n",
       "    </tr>\n",
       "    <tr>\n",
       "      <th>4</th>\n",
       "      <td>1</td>\n",
       "      <td>Futrelle, Mrs. Jacques Heath (Lily May Peel)</td>\n",
       "      <td>female</td>\n",
       "      <td>35.0</td>\n",
       "      <td>1</td>\n",
       "      <td>0</td>\n",
       "      <td>113803</td>\n",
       "      <td>53.1000</td>\n",
       "      <td>C123</td>\n",
       "      <td>S</td>\n",
       "    </tr>\n",
       "    <tr>\n",
       "      <th>5</th>\n",
       "      <td>3</td>\n",
       "      <td>Allen, Mr. William Henry</td>\n",
       "      <td>male</td>\n",
       "      <td>35.0</td>\n",
       "      <td>0</td>\n",
       "      <td>0</td>\n",
       "      <td>373450</td>\n",
       "      <td>8.0500</td>\n",
       "      <td>NaN</td>\n",
       "      <td>S</td>\n",
       "    </tr>\n",
       "  </tbody>\n",
       "</table>\n",
       "</div>"
      ],
      "text/plain": [
       "             Pclass                                               Name  \\\n",
       "PassengerId                                                              \n",
       "1                 3                            Braund, Mr. Owen Harris   \n",
       "2                 1  Cumings, Mrs. John Bradley (Florence Briggs Th...   \n",
       "3                 3                             Heikkinen, Miss. Laina   \n",
       "4                 1       Futrelle, Mrs. Jacques Heath (Lily May Peel)   \n",
       "5                 3                           Allen, Mr. William Henry   \n",
       "\n",
       "                Sex   Age  SibSp  Parch            Ticket     Fare Cabin  \\\n",
       "PassengerId                                                                \n",
       "1              male  22.0      1      0         A/5 21171   7.2500   NaN   \n",
       "2            female  38.0      1      0          PC 17599  71.2833   C85   \n",
       "3            female  26.0      0      0  STON/O2. 3101282   7.9250   NaN   \n",
       "4            female  35.0      1      0            113803  53.1000  C123   \n",
       "5              male  35.0      0      0            373450   8.0500   NaN   \n",
       "\n",
       "            Embarked  \n",
       "PassengerId           \n",
       "1                  S  \n",
       "2                  C  \n",
       "3                  S  \n",
       "4                  S  \n",
       "5                  S  "
      ]
     },
     "execution_count": 7,
     "metadata": {},
     "output_type": "execute_result"
    }
   ],
   "source": [
    "X_train, y_train = titanic_train.drop('Survived', axis=1), titanic_train['Survived']\n",
    "X_test = titanic_test.copy()\n",
    "\n",
    "X_train.head()"
   ]
  },
  {
   "cell_type": "markdown",
   "id": "638faac5",
   "metadata": {},
   "source": [
    "## Preparing the Data for ML\n",
    "\n",
    "Now we should start cleaning up this data, i.e. figuring out what to fill the null values with and if we should use all the predictors for training or not.\n",
    "\n",
    "We have a couple attributes that have missing values: `age`, `cabin`, and `embarked`. I think that we can ignore the `cabin` attribute for now. For `age`, we can see that the distribution above is fairly normal, so the mean and median will be similar. We'll fill in the missing values with the median age. \n",
    "\n",
    "Further, we have a few attributes that are strings: `name`, `sex`, and `ticket`. I'm also going to ignore `name` and `ticket` for now. `sex` and `embarked` can be converted to categorical variables easily with `OneHotEncoder`.\n",
    "\n",
    "So we need to remove `cabin`, `name`, and `ticket`. We'll create a custom transformer for this so that we can apply these transformations to the test set easily later:"
   ]
  },
  {
   "cell_type": "code",
   "execution_count": 8,
   "id": "50d1e864",
   "metadata": {},
   "outputs": [],
   "source": [
    "from sklearn.base import BaseEstimator, TransformerMixin\n",
    "\n",
    "name, ticket, cabin = 'Name', 'Ticket', 'Cabin'\n",
    "\n",
    "# print(X_train.iloc[:, ticket])\n",
    "\n",
    "class StringAttributeRemover(BaseEstimator, TransformerMixin):\n",
    "    def __init__(self, remove_string_attributes=True):\n",
    "        self.remove_string_attributes = remove_string_attributes\n",
    "        \n",
    "    def fit(self, X, y=None):\n",
    "        return self\n",
    "    \n",
    "    def transform(self, X):\n",
    "        # here is where we remove the attributes we don't want\n",
    "        if self.remove_string_attributes:\n",
    "            X = X.drop([name, ticket, cabin], axis=1)\n",
    "        return X\n",
    "\n",
    "# seeing if it works\n",
    "# attr_remover = StringAttributeRemover()\n",
    "# X_train_trim = attr_remover.transform(X_train)\n",
    "# print(X_train_trim.head())"
   ]
  },
  {
   "cell_type": "code",
   "execution_count": 9,
   "id": "556e957c",
   "metadata": {},
   "outputs": [
    {
     "name": "stdout",
     "output_type": "stream",
     "text": [
      "             Pclass     Sex   Age  SibSp  Parch     Fare Embarked\n",
      "PassengerId                                                      \n",
      "1                 3    male  22.0      1      0   7.2500        S\n",
      "2                 1  female  38.0      1      0  71.2833        C\n",
      "3                 3  female  26.0      0      0   7.9250        S\n",
      "4                 1  female  35.0      1      0  53.1000        S\n",
      "5                 3    male  35.0      0      0   8.0500        S\n",
      "...             ...     ...   ...    ...    ...      ...      ...\n",
      "887               2    male  27.0      0      0  13.0000        S\n",
      "888               1  female  19.0      0      0  30.0000        S\n",
      "889               3  female   NaN      1      2  23.4500        S\n",
      "890               1    male  26.0      0      0  30.0000        C\n",
      "891               3    male  32.0      0      0   7.7500        Q\n",
      "\n",
      "[891 rows x 7 columns]\n",
      "(891, 13)\n"
     ]
    }
   ],
   "source": [
    "from sklearn.pipeline import Pipeline\n",
    "from sklearn.preprocessing import StandardScaler\n",
    "from sklearn.preprocessing import OneHotEncoder\n",
    "from sklearn.impute import SimpleImputer\n",
    "from sklearn.compose import ColumnTransformer\n",
    "\n",
    "num_pipeline = Pipeline([\n",
    "    ('imputer', SimpleImputer(strategy='median')),\n",
    "    ('std_scaler', StandardScaler()),\n",
    "])\n",
    "\n",
    "num_attribs = ['Age', 'SibSp', 'Parch', 'Fare']\n",
    "cat_attribs = ['Pclass', 'Sex', 'Embarked']\n",
    "\n",
    "pipeline_1 = Pipeline([\n",
    "    ('attribs_remover', StringAttributeRemover())\n",
    "])\n",
    "\n",
    "pipeline_2 = ColumnTransformer([\n",
    "    ('nums', num_pipeline, num_attribs),\n",
    "    ('cats', OneHotEncoder(), cat_attribs)\n",
    "])\n",
    "\n",
    "X_train_trim = pipeline_1.fit_transform(X_train)\n",
    "\n",
    "X_train_prepared = pipeline_2.fit_transform(X_train_trim)\n",
    "\n",
    "print(X_train_trim)\n",
    "print(X_train_prepared.shape)  # should be 891, "
   ]
  },
  {
   "cell_type": "markdown",
   "id": "964c1fc1",
   "metadata": {},
   "source": [
    "## Shortlist Promising Models\n",
    "\n",
    "Now that we have prepared the data for the machine learning model, we're going to train a couple of models with the standard parameters and then measure and compare their performances using N-fold cross validation."
   ]
  },
  {
   "cell_type": "code",
   "execution_count": 10,
   "id": "a039124c",
   "metadata": {},
   "outputs": [
    {
     "data": {
      "text/html": [
       "<style>#sk-container-id-1 {color: black;background-color: white;}#sk-container-id-1 pre{padding: 0;}#sk-container-id-1 div.sk-toggleable {background-color: white;}#sk-container-id-1 label.sk-toggleable__label {cursor: pointer;display: block;width: 100%;margin-bottom: 0;padding: 0.3em;box-sizing: border-box;text-align: center;}#sk-container-id-1 label.sk-toggleable__label-arrow:before {content: \"▸\";float: left;margin-right: 0.25em;color: #696969;}#sk-container-id-1 label.sk-toggleable__label-arrow:hover:before {color: black;}#sk-container-id-1 div.sk-estimator:hover label.sk-toggleable__label-arrow:before {color: black;}#sk-container-id-1 div.sk-toggleable__content {max-height: 0;max-width: 0;overflow: hidden;text-align: left;background-color: #f0f8ff;}#sk-container-id-1 div.sk-toggleable__content pre {margin: 0.2em;color: black;border-radius: 0.25em;background-color: #f0f8ff;}#sk-container-id-1 input.sk-toggleable__control:checked~div.sk-toggleable__content {max-height: 200px;max-width: 100%;overflow: auto;}#sk-container-id-1 input.sk-toggleable__control:checked~label.sk-toggleable__label-arrow:before {content: \"▾\";}#sk-container-id-1 div.sk-estimator input.sk-toggleable__control:checked~label.sk-toggleable__label {background-color: #d4ebff;}#sk-container-id-1 div.sk-label input.sk-toggleable__control:checked~label.sk-toggleable__label {background-color: #d4ebff;}#sk-container-id-1 input.sk-hidden--visually {border: 0;clip: rect(1px 1px 1px 1px);clip: rect(1px, 1px, 1px, 1px);height: 1px;margin: -1px;overflow: hidden;padding: 0;position: absolute;width: 1px;}#sk-container-id-1 div.sk-estimator {font-family: monospace;background-color: #f0f8ff;border: 1px dotted black;border-radius: 0.25em;box-sizing: border-box;margin-bottom: 0.5em;}#sk-container-id-1 div.sk-estimator:hover {background-color: #d4ebff;}#sk-container-id-1 div.sk-parallel-item::after {content: \"\";width: 100%;border-bottom: 1px solid gray;flex-grow: 1;}#sk-container-id-1 div.sk-label:hover label.sk-toggleable__label {background-color: #d4ebff;}#sk-container-id-1 div.sk-serial::before {content: \"\";position: absolute;border-left: 1px solid gray;box-sizing: border-box;top: 0;bottom: 0;left: 50%;z-index: 0;}#sk-container-id-1 div.sk-serial {display: flex;flex-direction: column;align-items: center;background-color: white;padding-right: 0.2em;padding-left: 0.2em;position: relative;}#sk-container-id-1 div.sk-item {position: relative;z-index: 1;}#sk-container-id-1 div.sk-parallel {display: flex;align-items: stretch;justify-content: center;background-color: white;position: relative;}#sk-container-id-1 div.sk-item::before, #sk-container-id-1 div.sk-parallel-item::before {content: \"\";position: absolute;border-left: 1px solid gray;box-sizing: border-box;top: 0;bottom: 0;left: 50%;z-index: -1;}#sk-container-id-1 div.sk-parallel-item {display: flex;flex-direction: column;z-index: 1;position: relative;background-color: white;}#sk-container-id-1 div.sk-parallel-item:first-child::after {align-self: flex-end;width: 50%;}#sk-container-id-1 div.sk-parallel-item:last-child::after {align-self: flex-start;width: 50%;}#sk-container-id-1 div.sk-parallel-item:only-child::after {width: 0;}#sk-container-id-1 div.sk-dashed-wrapped {border: 1px dashed gray;margin: 0 0.4em 0.5em 0.4em;box-sizing: border-box;padding-bottom: 0.4em;background-color: white;}#sk-container-id-1 div.sk-label label {font-family: monospace;font-weight: bold;display: inline-block;line-height: 1.2em;}#sk-container-id-1 div.sk-label-container {text-align: center;}#sk-container-id-1 div.sk-container {/* jupyter's `normalize.less` sets `[hidden] { display: none; }` but bootstrap.min.css set `[hidden] { display: none !important; }` so we also need the `!important` here to be able to override the default hidden behavior on the sphinx rendered scikit-learn.org. See: https://github.com/scikit-learn/scikit-learn/issues/21755 */display: inline-block !important;position: relative;}#sk-container-id-1 div.sk-text-repr-fallback {display: none;}</style><div id=\"sk-container-id-1\" class=\"sk-top-container\"><div class=\"sk-text-repr-fallback\"><pre>SGDClassifier(random_state=5)</pre><b>In a Jupyter environment, please rerun this cell to show the HTML representation or trust the notebook. <br />On GitHub, the HTML representation is unable to render, please try loading this page with nbviewer.org.</b></div><div class=\"sk-container\" hidden><div class=\"sk-item\"><div class=\"sk-estimator sk-toggleable\"><input class=\"sk-toggleable__control sk-hidden--visually\" id=\"sk-estimator-id-1\" type=\"checkbox\" checked><label for=\"sk-estimator-id-1\" class=\"sk-toggleable__label sk-toggleable__label-arrow\">SGDClassifier</label><div class=\"sk-toggleable__content\"><pre>SGDClassifier(random_state=5)</pre></div></div></div></div></div>"
      ],
      "text/plain": [
       "SGDClassifier(random_state=5)"
      ]
     },
     "execution_count": 10,
     "metadata": {},
     "output_type": "execute_result"
    }
   ],
   "source": [
    "from sklearn.linear_model import SGDClassifier\n",
    "\n",
    "my_random_state = 5\n",
    "\n",
    "sgd_clf = SGDClassifier(random_state=my_random_state)\n",
    "\n",
    "sgd_clf.fit(X_train_prepared, y_train)"
   ]
  },
  {
   "cell_type": "code",
   "execution_count": 11,
   "id": "aa0cbdc6",
   "metadata": {},
   "outputs": [],
   "source": [
    "from sklearn.model_selection import cross_val_score\n",
    "\n",
    "sgd_cv = cross_val_score(sgd_clf, X_train_prepared, y_train, cv=10, n_jobs=10)"
   ]
  },
  {
   "cell_type": "code",
   "execution_count": 12,
   "id": "df7b2418",
   "metadata": {},
   "outputs": [
    {
     "name": "stdout",
     "output_type": "stream",
     "text": [
      "[0.68888889 0.82022472 0.71910112 0.83146067 0.75280899 0.7752809\n",
      " 0.7752809  0.74157303 0.76404494 0.75280899]\n"
     ]
    }
   ],
   "source": [
    "print(sgd_cv)"
   ]
  },
  {
   "cell_type": "code",
   "execution_count": 13,
   "id": "dd6f2b26",
   "metadata": {},
   "outputs": [
    {
     "name": "stdout",
     "output_type": "stream",
     "text": [
      "[[485  64]\n",
      " [148 194]]\n"
     ]
    }
   ],
   "source": [
    "from sklearn.model_selection import cross_val_predict\n",
    "from sklearn.metrics import confusion_matrix\n",
    "\n",
    "y_train_pred = cross_val_predict(sgd_clf, X_train_prepared, y_train, cv=10, n_jobs=10)\n",
    "print(confusion_matrix(y_train, y_train_pred))"
   ]
  },
  {
   "cell_type": "markdown",
   "id": "e2d4494a",
   "metadata": {},
   "source": [
    "Based on the confusion matrix, we can see that the model correctly classified 485 people as having not survived, and 194 people as having survived. 64 people were classified as survived even though they died, and 148 people were said to have died, but actually survived!\n",
    "\n",
    "Let's go ahead and try a RandomForestClassifier."
   ]
  },
  {
   "cell_type": "code",
   "execution_count": 14,
   "id": "9df1fb8d",
   "metadata": {},
   "outputs": [],
   "source": [
    "from sklearn.ensemble import RandomForestClassifier\n",
    "\n",
    "r_forest_clf = RandomForestClassifier(random_state=my_random_state)\n",
    "\n",
    "r_forest_clf.fit(X_train_prepared, y_train)\n",
    "\n",
    "r_forest_cv = cross_val_score(r_forest_clf, X_train_prepared, y_train, cv=10, n_jobs=10)"
   ]
  },
  {
   "cell_type": "code",
   "execution_count": 15,
   "id": "4bcb4dce",
   "metadata": {},
   "outputs": [
    {
     "name": "stdout",
     "output_type": "stream",
     "text": [
      "[0.75555556 0.76404494 0.7752809  0.79775281 0.88764045 0.82022472\n",
      " 0.82022472 0.76404494 0.80898876 0.83146067]\n"
     ]
    }
   ],
   "source": [
    "print(r_forest_cv)"
   ]
  },
  {
   "cell_type": "code",
   "execution_count": 16,
   "id": "b98bebc2",
   "metadata": {},
   "outputs": [
    {
     "name": "stdout",
     "output_type": "stream",
     "text": [
      "[0.8        0.84269663 0.76404494 0.86516854 0.82022472 0.78651685\n",
      " 0.83146067 0.79775281 0.86516854 0.85393258]\n"
     ]
    }
   ],
   "source": [
    "from sklearn.svm import SVC\n",
    "\n",
    "svm_clf = SVC()\n",
    "\n",
    "svm_clf.fit(X_train_prepared, y_train)\n",
    "\n",
    "svm_cv = cross_val_score(svm_clf, X_train_prepared, y_train, cv=10, n_jobs=10)\n",
    "\n",
    "print(svm_cv)"
   ]
  },
  {
   "cell_type": "code",
   "execution_count": 17,
   "id": "e0f95524",
   "metadata": {},
   "outputs": [
    {
     "data": {
      "image/png": "[encoded data removed]",
      "text/plain": [
       "<Figure size 576x288 with 1 Axes>"
      ]
     },
     "metadata": {
      "needs_background": "light"
     },
     "output_type": "display_data"
    }
   ],
   "source": [
    "plt.figure(figsize=(8, 4))\n",
    "plt.plot([1]*10, sgd_cv, \".\")\n",
    "plt.plot([2]*10, r_forest_cv, \".\")\n",
    "plt.plot([3]*10, svm_cv, \".\")\n",
    "plt.boxplot([sgd_cv, r_forest_cv, svm_cv], labels=(\"SGD\",\"Random Forest\", 'SVM'))\n",
    "plt.ylabel(\"Accuracy\", fontsize=14)\n",
    "plt.show()"
   ]
  },
  {
   "cell_type": "markdown",
   "id": "203a5d94",
   "metadata": {},
   "source": [
    "Based on the box plots above of the cross validation scores achieved by each of the models, the best model is the Support Vector Machine one. Although the Random Forest Classifier achieved a better accuracy in one of its cross validation folds, the spread is much greater. The median accuracy for the Support Vector Machine is better and so this indicates that the model will generalize better than the other two models.\n",
    "\n",
    "## Fine Tune the System\n",
    "\n",
    "We can see if changing the hyperparameters on the SVM model can increase its accuracy."
   ]
  },
  {
   "cell_type": "code",
   "execution_count": 18,
   "id": "356ae58c",
   "metadata": {},
   "outputs": [
    {
     "data": {
      "text/html": [
       "<style>#sk-container-id-2 {color: black;background-color: white;}#sk-container-id-2 pre{padding: 0;}#sk-container-id-2 div.sk-toggleable {background-color: white;}#sk-container-id-2 label.sk-toggleable__label {cursor: pointer;display: block;width: 100%;margin-bottom: 0;padding: 0.3em;box-sizing: border-box;text-align: center;}#sk-container-id-2 label.sk-toggleable__label-arrow:before {content: \"▸\";float: left;margin-right: 0.25em;color: #696969;}#sk-container-id-2 label.sk-toggleable__label-arrow:hover:before {color: black;}#sk-container-id-2 div.sk-estimator:hover label.sk-toggleable__label-arrow:before {color: black;}#sk-container-id-2 div.sk-toggleable__content {max-height: 0;max-width: 0;overflow: hidden;text-align: left;background-color: #f0f8ff;}#sk-container-id-2 div.sk-toggleable__content pre {margin: 0.2em;color: black;border-radius: 0.25em;background-color: #f0f8ff;}#sk-container-id-2 input.sk-toggleable__control:checked~div.sk-toggleable__content {max-height: 200px;max-width: 100%;overflow: auto;}#sk-container-id-2 input.sk-toggleable__control:checked~label.sk-toggleable__label-arrow:before {content: \"▾\";}#sk-container-id-2 div.sk-estimator input.sk-toggleable__control:checked~label.sk-toggleable__label {background-color: #d4ebff;}#sk-container-id-2 div.sk-label input.sk-toggleable__control:checked~label.sk-toggleable__label {background-color: #d4ebff;}#sk-container-id-2 input.sk-hidden--visually {border: 0;clip: rect(1px 1px 1px 1px);clip: rect(1px, 1px, 1px, 1px);height: 1px;margin: -1px;overflow: hidden;padding: 0;position: absolute;width: 1px;}#sk-container-id-2 div.sk-estimator {font-family: monospace;background-color: #f0f8ff;border: 1px dotted black;border-radius: 0.25em;box-sizing: border-box;margin-bottom: 0.5em;}#sk-container-id-2 div.sk-estimator:hover {background-color: #d4ebff;}#sk-container-id-2 div.sk-parallel-item::after {content: \"\";width: 100%;border-bottom: 1px solid gray;flex-grow: 1;}#sk-container-id-2 div.sk-label:hover label.sk-toggleable__label {background-color: #d4ebff;}#sk-container-id-2 div.sk-serial::before {content: \"\";position: absolute;border-left: 1px solid gray;box-sizing: border-box;top: 0;bottom: 0;left: 50%;z-index: 0;}#sk-container-id-2 div.sk-serial {display: flex;flex-direction: column;align-items: center;background-color: white;padding-right: 0.2em;padding-left: 0.2em;position: relative;}#sk-container-id-2 div.sk-item {position: relative;z-index: 1;}#sk-container-id-2 div.sk-parallel {display: flex;align-items: stretch;justify-content: center;background-color: white;position: relative;}#sk-container-id-2 div.sk-item::before, #sk-container-id-2 div.sk-parallel-item::before {content: \"\";position: absolute;border-left: 1px solid gray;box-sizing: border-box;top: 0;bottom: 0;left: 50%;z-index: -1;}#sk-container-id-2 div.sk-parallel-item {display: flex;flex-direction: column;z-index: 1;position: relative;background-color: white;}#sk-container-id-2 div.sk-parallel-item:first-child::after {align-self: flex-end;width: 50%;}#sk-container-id-2 div.sk-parallel-item:last-child::after {align-self: flex-start;width: 50%;}#sk-container-id-2 div.sk-parallel-item:only-child::after {width: 0;}#sk-container-id-2 div.sk-dashed-wrapped {border: 1px dashed gray;margin: 0 0.4em 0.5em 0.4em;box-sizing: border-box;padding-bottom: 0.4em;background-color: white;}#sk-container-id-2 div.sk-label label {font-family: monospace;font-weight: bold;display: inline-block;line-height: 1.2em;}#sk-container-id-2 div.sk-label-container {text-align: center;}#sk-container-id-2 div.sk-container {/* jupyter's `normalize.less` sets `[hidden] { display: none; }` but bootstrap.min.css set `[hidden] { display: none !important; }` so we also need the `!important` here to be able to override the default hidden behavior on the sphinx rendered scikit-learn.org. See: https://github.com/scikit-learn/scikit-learn/issues/21755 */display: inline-block !important;position: relative;}#sk-container-id-2 div.sk-text-repr-fallback {display: none;}</style><div id=\"sk-container-id-2\" class=\"sk-top-container\"><div class=\"sk-text-repr-fallback\"><pre>GridSearchCV(cv=10, estimator=SVC(), n_jobs=10,\n",
       "             param_grid=[{&#x27;C&#x27;: [1.0, 5.0, 10.0, 20.0],\n",
       "                          &#x27;kernel&#x27;: [&#x27;linear&#x27;, &#x27;rbf&#x27;]}],\n",
       "             return_train_score=True, scoring=&#x27;accuracy&#x27;)</pre><b>In a Jupyter environment, please rerun this cell to show the HTML representation or trust the notebook. <br />On GitHub, the HTML representation is unable to render, please try loading this page with nbviewer.org.</b></div><div class=\"sk-container\" hidden><div class=\"sk-item sk-dashed-wrapped\"><div class=\"sk-label-container\"><div class=\"sk-label sk-toggleable\"><input class=\"sk-toggleable__control sk-hidden--visually\" id=\"sk-estimator-id-2\" type=\"checkbox\" ><label for=\"sk-estimator-id-2\" class=\"sk-toggleable__label sk-toggleable__label-arrow\">GridSearchCV</label><div class=\"sk-toggleable__content\"><pre>GridSearchCV(cv=10, estimator=SVC(), n_jobs=10,\n",
       "             param_grid=[{&#x27;C&#x27;: [1.0, 5.0, 10.0, 20.0],\n",
       "                          &#x27;kernel&#x27;: [&#x27;linear&#x27;, &#x27;rbf&#x27;]}],\n",
       "             return_train_score=True, scoring=&#x27;accuracy&#x27;)</pre></div></div></div><div class=\"sk-parallel\"><div class=\"sk-parallel-item\"><div class=\"sk-item\"><div class=\"sk-label-container\"><div class=\"sk-label sk-toggleable\"><input class=\"sk-toggleable__control sk-hidden--visually\" id=\"sk-estimator-id-3\" type=\"checkbox\" ><label for=\"sk-estimator-id-3\" class=\"sk-toggleable__label sk-toggleable__label-arrow\">estimator: SVC</label><div class=\"sk-toggleable__content\"><pre>SVC()</pre></div></div></div><div class=\"sk-serial\"><div class=\"sk-item\"><div class=\"sk-estimator sk-toggleable\"><input class=\"sk-toggleable__control sk-hidden--visually\" id=\"sk-estimator-id-4\" type=\"checkbox\" ><label for=\"sk-estimator-id-4\" class=\"sk-toggleable__label sk-toggleable__label-arrow\">SVC</label><div class=\"sk-toggleable__content\"><pre>SVC()</pre></div></div></div></div></div></div></div></div></div></div>"
      ],
      "text/plain": [
       "GridSearchCV(cv=10, estimator=SVC(), n_jobs=10,\n",
       "             param_grid=[{'C': [1.0, 5.0, 10.0, 20.0],\n",
       "                          'kernel': ['linear', 'rbf']}],\n",
       "             return_train_score=True, scoring='accuracy')"
      ]
     },
     "execution_count": 18,
     "metadata": {},
     "output_type": "execute_result"
    }
   ],
   "source": [
    "from sklearn.model_selection import GridSearchCV\n",
    "\n",
    "param_grid = [\n",
    "    {'kernel': ['linear', 'rbf'], 'C': [1.0, 5.0, 10.0, 20.0]}, \n",
    "]\n",
    "\n",
    "grid_search = GridSearchCV(svm_clf, param_grid, cv=10, scoring='accuracy', return_train_score=True, n_jobs=10)\n",
    "\n",
    "grid_search.fit(X_train_prepared, y_train)"
   ]
  },
  {
   "cell_type": "code",
   "execution_count": 19,
   "id": "8030c8a8",
   "metadata": {},
   "outputs": [
    {
     "name": "stdout",
     "output_type": "stream",
     "text": [
      "{'C': 5.0, 'kernel': 'rbf'}\n",
      "0.786729088639201 {'C': 1.0, 'kernel': 'linear'}\n",
      "0.8226966292134831 {'C': 1.0, 'kernel': 'rbf'}\n",
      "0.786729088639201 {'C': 5.0, 'kernel': 'linear'}\n",
      "0.8271910112359551 {'C': 5.0, 'kernel': 'rbf'}\n",
      "0.786729088639201 {'C': 10.0, 'kernel': 'linear'}\n",
      "0.8115106117353308 {'C': 10.0, 'kernel': 'rbf'}\n",
      "0.786729088639201 {'C': 20.0, 'kernel': 'linear'}\n",
      "0.8036579275905117 {'C': 20.0, 'kernel': 'rbf'}\n"
     ]
    }
   ],
   "source": [
    "print(grid_search.best_params_)\n",
    "\n",
    "for mean_score, params in zip(grid_search.cv_results_['mean_test_score'], grid_search.cv_results_['params']):\n",
    "    print(mean_score, params)"
   ]
  },
  {
   "cell_type": "markdown",
   "id": "fb8d7e30",
   "metadata": {},
   "source": [
    "So the best hyperparameters for the SVM classifier are `C=5.0` and `kernel=rbf` which yield an average accuracy over the 10 cross validation folds of 82.7%. This is pretty good!\n",
    "\n",
    "Now that we are armed with this classification model, let's run the test set through the transformation pipeline and then use the model to generate predictions."
   ]
  },
  {
   "cell_type": "code",
   "execution_count": 20,
   "id": "14a7b7dd",
   "metadata": {},
   "outputs": [
    {
     "name": "stdout",
     "output_type": "stream",
     "text": [
      "             Pclass     Sex   Age  SibSp  Parch      Fare Embarked\n",
      "PassengerId                                                       \n",
      "892               3    male  34.5      0      0    7.8292        Q\n",
      "893               3  female  47.0      1      0    7.0000        S\n",
      "894               2    male  62.0      0      0    9.6875        Q\n",
      "895               3    male  27.0      0      0    8.6625        S\n",
      "896               3  female  22.0      1      1   12.2875        S\n",
      "...             ...     ...   ...    ...    ...       ...      ...\n",
      "1305              3    male   NaN      0      0    8.0500        S\n",
      "1306              1  female  39.0      0      0  108.9000        C\n",
      "1307              3    male  38.5      0      0    7.2500        S\n",
      "1308              3    male   NaN      0      0    8.0500        S\n",
      "1309              3    male   NaN      1      1   22.3583        C\n",
      "\n",
      "[418 rows x 7 columns]\n",
      "(418, 13)\n"
     ]
    }
   ],
   "source": [
    "# push the test set through the transformation pipeline, making sure to use transform() not fit_transform()\n",
    "X_test_trim = pipeline_1.transform(X_test)\n",
    "X_test_prepared = pipeline_2.transform(X_test_trim)\n",
    "\n",
    "print(X_test_trim)\n",
    "print(X_test_prepared.shape)"
   ]
  },
  {
   "cell_type": "code",
   "execution_count": 21,
   "id": "8b942ac0",
   "metadata": {},
   "outputs": [
    {
     "name": "stdout",
     "output_type": "stream",
     "text": [
      "[0 0 0 0 0 0 1 0 1 0 0 0 1 0 1 1 0 0 0 0 0 1 1 0 1 0 1 0 0 0 0 0 0 0 0 0 0\n",
      " 0 0 0 0 0 0 1 1 0 0 0 1 0 0 0 1 1 0 0 0 0 0 1 0 0 0 1 0 1 1 0 0 0 1 0 0 0\n",
      " 1 0 0 1 0 1 1 1 0 0 0 0 1 0 1 1 0 0 1 0 0 0 1 0 0 0 1 0 0 0 1 0 0 0 0 0 0\n",
      " 1 1 1 1 0 0 1 0 1 1 0 1 0 0 1 0 1 0 0 0 0 0 0 0 0 0 0 0 0 0 1 0 0 0 0 0 0\n",
      " 0 0 1 0 0 0 0 0 1 0 0 1 1 1 1 0 0 0 0 0 1 0 0 0 0 0 0 1 1 0 1 1 0 0 1 0 1\n",
      " 0 1 0 0 0 0 0 0 0 1 0 1 0 0 0 1 1 0 1 0 0 1 0 1 0 0 0 0 1 1 0 1 0 1 0 1 0\n",
      " 1 0 1 1 0 1 0 0 0 1 0 0 0 0 0 0 1 1 1 1 0 0 0 0 1 0 1 1 1 0 0 0 0 0 0 0 1\n",
      " 0 0 0 1 1 0 0 0 0 0 0 0 0 1 1 0 1 0 0 0 0 0 1 1 1 1 0 0 0 0 0 0 1 0 0 0 0\n",
      " 1 0 0 0 0 0 0 0 1 1 1 1 0 0 0 0 0 1 1 1 0 0 0 0 0 0 0 0 1 0 1 0 0 0 1 0 0\n",
      " 1 0 0 0 0 0 0 0 0 0 1 0 0 0 0 0 1 1 0 0 0 1 0 1 0 0 0 0 1 1 0 1 0 0 0 1 0\n",
      " 0 1 0 0 1 1 0 0 0 0 0 0 0 0 0 1 0 0 0 0 0 1 1 0 0 1 0 1 0 0 1 0 1 0 0 0 0\n",
      " 0 1 1 1 1 0 0 1 0 0 0]\n"
     ]
    }
   ],
   "source": [
    "final_model = grid_search.best_estimator_\n",
    "\n",
    "final_predictions = final_model.predict(X_test_prepared)\n",
    "\n",
    "print(final_predictions)"
   ]
  },
  {
   "cell_type": "markdown",
   "id": "62e82e01",
   "metadata": {},
   "source": [
    "Great! We've used our SVM Classifier model to generate predictions on the passengers in the test set. In order to submit our predictions to Kaggle, we need to have the data in a two-column table, with the first column being the passenger IDs and the second column being the survival prediction. We can generate a pandas DataFrame and then export it to a CSV file."
   ]
  },
  {
   "cell_type": "code",
   "execution_count": 22,
   "id": "86f57713",
   "metadata": {},
   "outputs": [
    {
     "name": "stdout",
     "output_type": "stream",
     "text": [
      "   PassengerID  Survived\n",
      "0          892         0\n",
      "1          893         0\n",
      "2          894         0\n",
      "3          895         0\n",
      "4          896         0\n",
      "5          897         0\n",
      "6          898         1\n",
      "7          899         0\n",
      "8          900         1\n",
      "9          901         0\n"
     ]
    }
   ],
   "source": [
    "d = {'PassengerID': X_test.index, 'Survived': final_predictions}\n",
    "df = pd.DataFrame(data=d)\n",
    "\n",
    "print(df.head(10))"
   ]
  },
  {
   "cell_type": "code",
   "execution_count": 25,
   "id": "3020ad50",
   "metadata": {},
   "outputs": [],
   "source": [
    "output_file = os.path.join(TITANIC_PATH, 'predictions.csv')\n",
    "df.to_csv(output_file, index=False)"
   ]
  },
  {
   "cell_type": "markdown",
   "id": "c1f4b518",
   "metadata": {},
   "source": [
    "We end up with a score of 0.76555, or 76.555% of the passengers' survival was predicted correctly. There are some other things we can do with the dataset that could probably help our model's accuracy, like some feature engineering or using some of the features that we ignored in creative ways. For example, maybe a person's name is somewhat indicative of nationality, and that could help with classification. Or, we could bin the passengers' ages and create an age group category."
   ]
  },
  {
   "cell_type": "markdown",
   "id": "e5d79fa9",
   "metadata": {},
   "source": [
    "## Update 1 October 2022, Adding an ROC Curve\n",
    "\n",
    "The receiver operating characteristic (ROC) curve plots the true positive rate against the false positive rate."
   ]
  },
  {
   "cell_type": "code",
   "execution_count": null,
   "id": "4c00c901",
   "metadata": {},
   "outputs": [],
   "source": [
    "from sklearn.metrics import roc_curve\n",
    "\n",
    "fpr, tpr, thresholds = roc_curve()"
   ]
  }
 ],
 "metadata": {
  "kernelspec": {
   "display_name": "Python 3 (ipykernel)",
   "language": "python",
   "name": "python3"
  },
  "language_info": {
   "codemirror_mode": {
    "name": "ipython",
    "version": 3
   },
   "file_extension": ".py",
   "mimetype": "text/x-python",
   "name": "python",
   "nbconvert_exporter": "python",
   "pygments_lexer": "ipython3",
   "version": "3.9.10"
  }
 },
 "nbformat": 4,
 "nbformat_minor": 5
}
